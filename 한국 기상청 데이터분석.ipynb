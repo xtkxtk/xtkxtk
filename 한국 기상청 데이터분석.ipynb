{
  "nbformat": 4,
  "nbformat_minor": 0,
  "metadata": {
    "colab": {
      "name": "영재319.ipynb",
      "provenance": [],
      "authorship_tag": "ABX9TyOkP6zl2/2iweI5V4KoLVdM",
      "include_colab_link": true
    },
    "kernelspec": {
      "name": "python3",
      "display_name": "Python 3"
    },
    "language_info": {
      "name": "python"
    }
  },
  "cells": [
    {
      "cell_type": "markdown",
      "metadata": {
        "id": "view-in-github",
        "colab_type": "text"
      },
      "source": [
        "<a href=\"https://colab.research.google.com/github/xtkxtk/xtkxtk/blob/main/%ED%95%9C%EA%B5%AD%20%EA%B8%B0%EC%83%81%EC%B2%AD%20%EB%8D%B0%EC%9D%B4%ED%84%B0%EB%B6%84%EC%84%9D.ipynb\" target=\"_parent\"><img src=\"https://colab.research.google.com/assets/colab-badge.svg\" alt=\"Open In Colab\"/></a>"
      ]
    },
    {
      "cell_type": "code",
      "execution_count": null,
      "metadata": {
        "id": "EOGTxEGWh-J-"
      },
      "outputs": [],
      "source": [
        "#가장 더운날\n",
        "import csv\n",
        "import matplotlib.pyplot as plt\n",
        "\n",
        "f=open('seoul.csv','r',encoding='cp949') #r=읽기모드\n",
        "data=csv.reader(f)\n",
        "result=[]\n",
        "header=next(data)\n",
        "max_date=''\n",
        "max_temp=-99\n",
        "for row in data:\n",
        "  if row[4] != '':\n",
        "    #max_temp=float(max_temp)\n",
        "    #print(row[4])\n",
        "    result.append(float(row[4]))\n",
        "    print(row[4],max_temp)\n",
        "    if max_temp < float(row[4]):\n",
        "      max_temp = float(row[4])\n",
        "      max_date = row[2]\n",
        "print(max_temp,max_date)\n",
        "plt.hist(result)\n",
        "plt.show()"
      ]
    },
    {
      "cell_type": "code",
      "source": [
        "#기온 찾기\n",
        "import csv\n",
        "import matplotlib.pyplot as plt\n",
        "\n",
        "f=open('seoul.csv','r',encoding='cp949') #r=읽기모드\n",
        "data=csv.reader(f)\n",
        "header=next(data)\n",
        "date='2022-03-19'\n",
        "#print(date.split('-')[1])\n",
        "resultHigh=[]\n",
        "resultLow=[]\n",
        "month=input(\"찾고자하는 기온 (월)\")\n",
        "day=input(\"찾고자하는 기온 (일)\")\n",
        "for row in data:\n",
        "  if row[4] != '':\n",
        "    if row[2].split('-')[1]==month and row[2].split('-')[2]==day:\n",
        "      resultHigh.append(float(row[4]))\n",
        "      resultLow.append(float(row[6]))\n",
        "plt.plot(resultHigh,'red')\n",
        "plt.plot(resultLow,'blue')\n",
        "plt.show()\n",
        "f.close()"
      ],
      "metadata": {
        "id": "D_KqS02swB0n"
      },
      "execution_count": null,
      "outputs": []
    },
    {
      "cell_type": "code",
      "source": [
        "#히스토그램\n",
        "import csv\n",
        "import matplotlib.pyplot as plt\n",
        "from random import *\n",
        "data=[]\n",
        "for i in range(600):\n",
        "  data.append(randint(1,45))\n",
        "plt.hist(data)\n",
        "plt.show()"
      ],
      "metadata": {
        "colab": {
          "base_uri": "https://localhost:8080/",
          "height": 265
        },
        "id": "R4SHb-gU3uma",
        "outputId": "19c37797-f92e-4f5b-98da-cf42ac66d66f"
      },
      "execution_count": null,
      "outputs": [
        {
          "output_type": "display_data",
          "data": {
            "text/plain": [
              "<Figure size 432x288 with 1 Axes>"
            ],
            "image/png": "[encoded data removed]"
          },
          "metadata": {
            "needs_background": "light"
          }
        }
      ]
    },
    {
      "cell_type": "code",
      "source": [
        "#프로젝트1: 수원 더운날\n",
        "import csv\n",
        "import matplotlib.pyplot as plt\n",
        "\n",
        "f=open('suwon.csv','r',encoding='cp949')\n",
        "data=csv.reader(f)\n",
        "result=[]\n",
        "header=next(data)\n",
        "max_date=''\n",
        "max_temp=-99\n",
        "for row in data:\n",
        "  if row[4] != '':\n",
        "    result.append(float(row[4]))\n",
        "    if max_temp < float(row[4]):\n",
        "      max_temp = float(row[4])\n",
        "      max_date = row[2]\n",
        "print(max_temp,max_date)"
      ],
      "metadata": {
        "id": "BH10PqpxHFd1"
      },
      "execution_count": null,
      "outputs": []
    },
    {
      "cell_type": "code",
      "source": [
        "#프로젝트2: 일교차 큰날\n",
        "import csv\n",
        "import matplotlib.pyplot as plt\n",
        "\n",
        "f=open('seoul.csv','r',encoding='cp949') #r=읽기모드\n",
        "data=csv.reader(f)\n",
        "result=[]\n",
        "header=next(data)\n",
        "max_date=''\n",
        "max_temp=-99\n",
        "for row in data:\n",
        "  if row[-1] != '':\n",
        "    if max_temp < float(row[-1]):\n",
        "      max_temp = float(row[-1])\n",
        "      max_date = row[2]\n",
        "print(max_temp,max_date)\n",
        "f.close()"
      ],
      "metadata": {
        "id": "Pqjda1J6HGGf"
      },
      "execution_count": null,
      "outputs": []
    },
    {
      "cell_type": "code",
      "source": [
        "#프로젝트3: 가장 추운 달\n",
        "import csv\n",
        "import matplotlib.pyplot as plt\n",
        "\n",
        "f=open('seoul.csv','r',encoding='cp949') #r=읽기모드\n",
        "data=csv.reader(f)\n",
        "result=[]\n",
        "header=next(data)\n",
        "low_date=''\n",
        "low_temp=99\n",
        "for row in data:\n",
        "  if row[-3] != '':\n",
        "    if row[2].split('-')[1]=='12' or row[2].split('-')[1]=='1' or row[2].split('-')[1]=='2':\n",
        "      if low_temp > float(row[-3]):\n",
        "        low_temp = float(row[-3])\n",
        "        low_date = row[2]\n",
        "print(low_temp,low_date)\n",
        "f.close()"
      ],
      "metadata": {
        "colab": {
          "base_uri": "https://localhost:8080/"
        },
        "id": "ekepSozjLB79",
        "outputId": "5203f0c5-b735-42ea-c588-6f0a9c0be08a"
      },
      "execution_count": null,
      "outputs": [
        {
          "output_type": "stream",
          "name": "stdout",
          "text": [
            "-15.5 2021-12-26\n"
          ]
        }
      ]
    },
    {
      "cell_type": "code",
      "source": [
        "#프로젝트4: 대구보다 수원이 더운 날 수 (2012~2020)\n",
        "import csv\n",
        "\n",
        "count=0\n",
        "\n",
        "\n",
        "degu=open('degu.csv','r',encoding='cp949')\n",
        "d=csv.reader(degu)\n",
        "suwon=open('suwon.csv','r',encoding='cp949')\n",
        "s=csv.reader(suwon)\n",
        "\n",
        "d1=[]\n",
        "s1=[]\n",
        "d2=[]\n",
        "s2=[]\n",
        "for row in d:\n",
        "  if row[3] != '':\n",
        "    d1.append(row[3])\n",
        "for row in s:\n",
        "  if row[3] != '':\n",
        "    s1.append(row[3])\n",
        "\n",
        "for row in s1[1:]:\n",
        "  s2.append(float(row))\n",
        "for row in d1[1:]:\n",
        "  d2.append(float(row))\n",
        "\n",
        "print(len(s2))\n",
        "print(len(d2))\n",
        "\n",
        "#########################################################################\n",
        "##데이터가 너무 큰데 수원과 대구의 날짜 차이가 있어 완성하지 못했습니다##\n",
        "#########################################################################"
      ],
      "metadata": {
        "id": "0j8eRGQiNDJ9",
        "colab": {
          "base_uri": "https://localhost:8080/"
        },
        "outputId": "48aca564-6a64-45dc-9826-fbcdf50a69d9"
      },
      "execution_count": 58,
      "outputs": [
        {
          "output_type": "stream",
          "name": "stdout",
          "text": [
            "3665\n",
            "3663\n"
          ]
        }
      ]
    },
    {
      "cell_type": "code",
      "source": [
        "# 개인프로젝트: 서울, 제주의 봄 날씨 비교 (3월~6월)\n",
        "import csv\n",
        "import matplotlib.pyplot as plt\n",
        "\n",
        "seou=open('seoul_g.csv','r',encoding='cp949')\n",
        "jeju=open('jeju_g.csv','r',encoding='cp949')\n",
        "\n",
        "seoul_f=csv.reader(seou)\n",
        "jeju_f=csv.reader(jeju)\n",
        "\n",
        "date=[]\n",
        "s=[]\n",
        "j=[]\n",
        "s2=[]\n",
        "j2=[]\n",
        "for row in seoul_f:\n",
        "  if row[2] != '' and row[3]!= '':\n",
        "    date.append(row[2])\n",
        "    s.append(row[3])\n",
        "for row in jeju_f:\n",
        "  if row[3] != '':\n",
        "    j.append(row[3])\n",
        "\n",
        "for row in s[1:]:\n",
        "  s2.append(float(row))\n",
        "for row in j[1:]:\n",
        "  j2.append(float(row))\n",
        "\n",
        "print(len(s2))\n",
        "print(len(j2))\n",
        "print(len(date))\n",
        "\n",
        "plt.plot(date[1:],s2,'b')\n",
        "plt.plot(date[1:],j2,'r')\n",
        "plt.show()\n",
        "#역시제주도는 초봄에도 따뜻한 편이였고, 초여름으로 갈수록 점점 거리가 좁혀졌다."
      ],
      "metadata": {
        "id": "ct_Qui0S-52b"
      },
      "execution_count": null,
      "outputs": []
    },
    {
      "cell_type": "code",
      "source": [
        "import csv\n",
        "import matplotlib.pyplot as plt\n",
        "\n",
        "f=open('seoul.csv','r',encoding='cp949') #r=읽기모드\n",
        "data=csv.reader(f)\n",
        "result=[]\n",
        "header=next(data)\n",
        "for row in data:\n",
        "  if row[3] != '':\n",
        "    print(row[3])"
      ],
      "metadata": {
        "id": "F2sGwMCVCY-G"
      },
      "execution_count": null,
      "outputs": []
    }
  ]
}